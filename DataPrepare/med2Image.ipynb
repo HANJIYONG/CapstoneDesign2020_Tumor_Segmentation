{
 "cells": [
  {
   "cell_type": "markdown",
   "metadata": {},
   "source": [
    "# Med2Image\n",
    "https://github.com/FNNDSC/med2image"
   ]
  },
  {
   "cell_type": "markdown",
   "metadata": {},
   "source": [
    "## 3D 채널\n",
    "-s뒤에 z축값, -1일경우 전체, m일경우 중간"
   ]
  },
  {
   "cell_type": "code",
   "execution_count": null,
   "metadata": {},
   "outputs": [],
   "source": [
    "!count=0;for f in $(ls Brats18*/*_seg.nii.gz); do count=$(($count+1));med2image -i $f -d rseg -o seg_$count.jpg -s m; done"
   ]
  },
  {
   "cell_type": "markdown",
   "metadata": {},
   "source": [
    "## 4D 채널\n",
    "-f 뒤에 1,2,3,4 (.json에 정의한 인덱스), 채널 빼온 후 다시 -s로 슬라이스"
   ]
  },
  {
   "cell_type": "code",
   "execution_count": null,
   "metadata": {},
   "outputs": [],
   "source": [
    "!count=0;for f in $(ls Brats18*/*_seg.nii.gz); do count=$(($count+1));med2image -i $f -d rseg -o seg_$count.jpg -f 2 -s m; done"
   ]
  }
 ],
 "metadata": {
  "kernelspec": {
   "display_name": "Python 3",
   "language": "python",
   "name": "python3"
  },
  "language_info": {
   "codemirror_mode": {
    "name": "ipython",
    "version": 3
   },
   "file_extension": ".py",
   "mimetype": "text/x-python",
   "name": "python",
   "nbconvert_exporter": "python",
   "pygments_lexer": "ipython3",
   "version": "3.7.5"
  }
 },
 "nbformat": 4,
 "nbformat_minor": 4
}
